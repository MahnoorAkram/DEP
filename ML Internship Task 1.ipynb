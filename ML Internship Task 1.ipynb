{
 "cells": [
  {
   "cell_type": "code",
   "execution_count": 26,
   "id": "0565d1c1-8c5d-444d-8a19-32d6d1695eda",
   "metadata": {},
   "outputs": [],
   "source": [
    "#Importing Libraries\n",
    "import pandas as pd\n",
    "import matplotlib.pyplot as plt\n",
    "from sklearn.model_selection import train_test_split\n",
    "from sklearn.linear_model import LinearRegression\n",
    "from sklearn.metrics import mean_squared_error, r2_score\n",
    "from sklearn.preprocessing import StandardScaler"
   ]
  },
  {
   "cell_type": "code",
   "execution_count": 21,
   "id": "914d23ef-a461-4389-890e-e700a44406b2",
   "metadata": {},
   "outputs": [
    {
     "data": {
      "text/html": [
       "<div>\n",
       "<style scoped>\n",
       "    .dataframe tbody tr th:only-of-type {\n",
       "        vertical-align: middle;\n",
       "    }\n",
       "\n",
       "    .dataframe tbody tr th {\n",
       "        vertical-align: top;\n",
       "    }\n",
       "\n",
       "    .dataframe thead th {\n",
       "        text-align: right;\n",
       "    }\n",
       "</style>\n",
       "<table border=\"1\" class=\"dataframe\">\n",
       "  <thead>\n",
       "    <tr style=\"text-align: right;\">\n",
       "      <th></th>\n",
       "      <th>Unnamed: 0</th>\n",
       "      <th>City</th>\n",
       "      <th>Price</th>\n",
       "      <th>Area</th>\n",
       "      <th>Location</th>\n",
       "      <th>No. of Bedrooms</th>\n",
       "    </tr>\n",
       "  </thead>\n",
       "  <tbody>\n",
       "    <tr>\n",
       "      <th>0</th>\n",
       "      <td>0</td>\n",
       "      <td>Bangalore</td>\n",
       "      <td>30000000</td>\n",
       "      <td>3340</td>\n",
       "      <td>JP Nagar Phase 1</td>\n",
       "      <td>4</td>\n",
       "    </tr>\n",
       "    <tr>\n",
       "      <th>1</th>\n",
       "      <td>1</td>\n",
       "      <td>Bangalore</td>\n",
       "      <td>7888000</td>\n",
       "      <td>1045</td>\n",
       "      <td>Dasarahalli on Tumkur Road</td>\n",
       "      <td>2</td>\n",
       "    </tr>\n",
       "    <tr>\n",
       "      <th>2</th>\n",
       "      <td>2</td>\n",
       "      <td>Bangalore</td>\n",
       "      <td>4866000</td>\n",
       "      <td>1179</td>\n",
       "      <td>Kannur on Thanisandra Main Road</td>\n",
       "      <td>2</td>\n",
       "    </tr>\n",
       "    <tr>\n",
       "      <th>3</th>\n",
       "      <td>3</td>\n",
       "      <td>Bangalore</td>\n",
       "      <td>8358000</td>\n",
       "      <td>1675</td>\n",
       "      <td>Doddanekundi</td>\n",
       "      <td>3</td>\n",
       "    </tr>\n",
       "    <tr>\n",
       "      <th>4</th>\n",
       "      <td>4</td>\n",
       "      <td>Bangalore</td>\n",
       "      <td>6845000</td>\n",
       "      <td>1670</td>\n",
       "      <td>Kengeri</td>\n",
       "      <td>3</td>\n",
       "    </tr>\n",
       "  </tbody>\n",
       "</table>\n",
       "</div>"
      ],
      "text/plain": [
       "   Unnamed: 0       City     Price  Area                         Location  \\\n",
       "0           0  Bangalore  30000000  3340                 JP Nagar Phase 1   \n",
       "1           1  Bangalore   7888000  1045       Dasarahalli on Tumkur Road   \n",
       "2           2  Bangalore   4866000  1179  Kannur on Thanisandra Main Road   \n",
       "3           3  Bangalore   8358000  1675                     Doddanekundi   \n",
       "4           4  Bangalore   6845000  1670                          Kengeri   \n",
       "\n",
       "   No. of Bedrooms  \n",
       "0                4  \n",
       "1                2  \n",
       "2                2  \n",
       "3                3  \n",
       "4                3  "
      ]
     },
     "execution_count": 21,
     "metadata": {},
     "output_type": "execute_result"
    }
   ],
   "source": [
    "#Load the dataset\n",
    "df = pd.read_csv(r\"C:\\Users\\Hamza Akram\\Desktop\\ML Internship\\House price prediction dataset\\csvdata.csv\")\n",
    "df.head()\n"
   ]
  },
  {
   "cell_type": "code",
   "execution_count": 22,
   "id": "de4fbed0-396f-4576-a028-9f47eb641197",
   "metadata": {},
   "outputs": [
    {
     "data": {
      "text/html": [
       "<div>\n",
       "<style scoped>\n",
       "    .dataframe tbody tr th:only-of-type {\n",
       "        vertical-align: middle;\n",
       "    }\n",
       "\n",
       "    .dataframe tbody tr th {\n",
       "        vertical-align: top;\n",
       "    }\n",
       "\n",
       "    .dataframe thead th {\n",
       "        text-align: right;\n",
       "    }\n",
       "</style>\n",
       "<table border=\"1\" class=\"dataframe\">\n",
       "  <thead>\n",
       "    <tr style=\"text-align: right;\">\n",
       "      <th></th>\n",
       "      <th>Unnamed: 0</th>\n",
       "      <th>Price</th>\n",
       "      <th>Area</th>\n",
       "      <th>No. of Bedrooms</th>\n",
       "    </tr>\n",
       "  </thead>\n",
       "  <tbody>\n",
       "    <tr>\n",
       "      <th>count</th>\n",
       "      <td>29135.000000</td>\n",
       "      <td>2.913500e+04</td>\n",
       "      <td>29135.000000</td>\n",
       "      <td>29135.000000</td>\n",
       "    </tr>\n",
       "    <tr>\n",
       "      <th>mean</th>\n",
       "      <td>3058.808238</td>\n",
       "      <td>1.195267e+07</td>\n",
       "      <td>1301.816475</td>\n",
       "      <td>2.421074</td>\n",
       "    </tr>\n",
       "    <tr>\n",
       "      <th>std</th>\n",
       "      <td>1923.174050</td>\n",
       "      <td>2.387647e+07</td>\n",
       "      <td>767.862339</td>\n",
       "      <td>0.821016</td>\n",
       "    </tr>\n",
       "    <tr>\n",
       "      <th>min</th>\n",
       "      <td>0.000000</td>\n",
       "      <td>2.000000e+06</td>\n",
       "      <td>200.000000</td>\n",
       "      <td>1.000000</td>\n",
       "    </tr>\n",
       "    <tr>\n",
       "      <th>25%</th>\n",
       "      <td>1431.000000</td>\n",
       "      <td>4.179999e+06</td>\n",
       "      <td>870.000000</td>\n",
       "      <td>2.000000</td>\n",
       "    </tr>\n",
       "    <tr>\n",
       "      <th>50%</th>\n",
       "      <td>2891.000000</td>\n",
       "      <td>6.884999e+06</td>\n",
       "      <td>1137.000000</td>\n",
       "      <td>2.000000</td>\n",
       "    </tr>\n",
       "    <tr>\n",
       "      <th>75%</th>\n",
       "      <td>4539.500000</td>\n",
       "      <td>1.230000e+07</td>\n",
       "      <td>1504.000000</td>\n",
       "      <td>3.000000</td>\n",
       "    </tr>\n",
       "    <tr>\n",
       "      <th>max</th>\n",
       "      <td>7718.000000</td>\n",
       "      <td>8.546000e+08</td>\n",
       "      <td>16000.000000</td>\n",
       "      <td>9.000000</td>\n",
       "    </tr>\n",
       "  </tbody>\n",
       "</table>\n",
       "</div>"
      ],
      "text/plain": [
       "         Unnamed: 0         Price          Area  No. of Bedrooms\n",
       "count  29135.000000  2.913500e+04  29135.000000     29135.000000\n",
       "mean    3058.808238  1.195267e+07   1301.816475         2.421074\n",
       "std     1923.174050  2.387647e+07    767.862339         0.821016\n",
       "min        0.000000  2.000000e+06    200.000000         1.000000\n",
       "25%     1431.000000  4.179999e+06    870.000000         2.000000\n",
       "50%     2891.000000  6.884999e+06   1137.000000         2.000000\n",
       "75%     4539.500000  1.230000e+07   1504.000000         3.000000\n",
       "max     7718.000000  8.546000e+08  16000.000000         9.000000"
      ]
     },
     "execution_count": 22,
     "metadata": {},
     "output_type": "execute_result"
    }
   ],
   "source": [
    "#Description of the DataSet\n",
    "df.describe()\n"
   ]
  },
  {
   "cell_type": "code",
   "execution_count": 23,
   "id": "7687fa06-715d-4929-af26-4bf0290fac44",
   "metadata": {},
   "outputs": [
    {
     "name": "stdout",
     "output_type": "stream",
     "text": [
      "<class 'pandas.core.frame.DataFrame'>\n",
      "RangeIndex: 29135 entries, 0 to 29134\n",
      "Data columns (total 6 columns):\n",
      " #   Column           Non-Null Count  Dtype \n",
      "---  ------           --------------  ----- \n",
      " 0   Unnamed: 0       29135 non-null  int64 \n",
      " 1   City             29135 non-null  object\n",
      " 2   Price            29135 non-null  int64 \n",
      " 3   Area             29135 non-null  int64 \n",
      " 4   Location         29135 non-null  object\n",
      " 5   No. of Bedrooms  29135 non-null  int64 \n",
      "dtypes: int64(4), object(2)\n",
      "memory usage: 1.3+ MB\n"
     ]
    }
   ],
   "source": [
    "#Info About Dataset\n",
    "df.info()"
   ]
  },
  {
   "cell_type": "code",
   "execution_count": 24,
   "id": "f00a8f1d-8d0b-44f6-b7c2-4c2fb886bd1c",
   "metadata": {},
   "outputs": [
    {
     "data": {
      "text/plain": [
       "Unnamed: 0         0\n",
       "City               0\n",
       "Price              0\n",
       "Area               0\n",
       "Location           0\n",
       "No. of Bedrooms    0\n",
       "dtype: int64"
      ]
     },
     "execution_count": 24,
     "metadata": {},
     "output_type": "execute_result"
    }
   ],
   "source": [
    "# Data cleaning and preprocessing\n",
    "#Checking for null values\n",
    "df.isnull().sum()"
   ]
  },
  {
   "cell_type": "code",
   "execution_count": 25,
   "id": "1a7802f0-5831-424f-bb52-d9243720d799",
   "metadata": {},
   "outputs": [
    {
     "data": {
      "text/plain": [
       "0"
      ]
     },
     "execution_count": 25,
     "metadata": {},
     "output_type": "execute_result"
    }
   ],
   "source": [
    "# Data cleaning and preprocessing\n",
    "#Checking for duplicate values\n",
    "df.duplicated().sum()"
   ]
  },
  {
   "cell_type": "code",
   "execution_count": 32,
   "id": "0640ee10-f167-48eb-881d-e8f43a039e28",
   "metadata": {},
   "outputs": [
    {
     "name": "stdout",
     "output_type": "stream",
     "text": [
      "   Unnamed: 0     Price  Area  No. of Bedrooms  City_Chennai  City_Delhi  \\\n",
      "0           0  30000000  3340                4         False       False   \n",
      "1           1   7888000  1045                2         False       False   \n",
      "2           2   4866000  1179                2         False       False   \n",
      "3           3   8358000  1675                3         False       False   \n",
      "4           4   6845000  1670                3         False       False   \n",
      "\n",
      "   City_Hyderabad  City_Kolkata  City_Mumbai  Location_10 Sector Dwarka  ...  \\\n",
      "0           False         False        False                      False  ...   \n",
      "1           False         False        False                      False  ...   \n",
      "2           False         False        False                      False  ...   \n",
      "3           False         False        False                      False  ...   \n",
      "4           False         False        False                      False  ...   \n",
      "\n",
      "   Location_tambaram west  Location_thakur village kandivali east  \\\n",
      "0                   False                                   False   \n",
      "1                   False                                   False   \n",
      "2                   False                                   False   \n",
      "3                   False                                   False   \n",
      "4                   False                                   False   \n",
      "\n",
      "   Location_ulhasnagar 4  Location_vasant vihar thane west  \\\n",
      "0                  False                             False   \n",
      "1                  False                             False   \n",
      "2                  False                             False   \n",
      "3                  False                             False   \n",
      "4                  False                             False   \n",
      "\n",
      "   Location_vikaspuri  Location_vile parle west  Location_vrindavan society  \\\n",
      "0               False                     False                       False   \n",
      "1               False                     False                       False   \n",
      "2               False                     False                       False   \n",
      "3               False                     False                       False   \n",
      "4               False                     False                       False   \n",
      "\n",
      "   Location_west venkatapuram  Location_worli sea Fase  \\\n",
      "0                       False                    False   \n",
      "1                       False                    False   \n",
      "2                       False                    False   \n",
      "3                       False                    False   \n",
      "4                       False                    False   \n",
      "\n",
      "   Location_worli sea face  \n",
      "0                    False  \n",
      "1                    False  \n",
      "2                    False  \n",
      "3                    False  \n",
      "4                    False  \n",
      "\n",
      "[5 rows x 1784 columns]\n"
     ]
    }
   ],
   "source": [
    "# Feature engineering\n",
    "# One-hot encode categorical variables\n",
    "df = pd.get_dummies(df, drop_first=True)\n",
    "\n",
    "# Display the data after encoding\n",
    "print(df.head())\n"
   ]
  },
  {
   "cell_type": "code",
   "execution_count": 28,
   "id": "c9df6622-ef0c-42ba-ae07-e877e34b1acf",
   "metadata": {},
   "outputs": [],
   "source": [
    "#Feature Scaling\n",
    "# Define the features and target variable\n",
    "X = df.drop('Price', axis=1)  \n",
    "y = df['Price']\n",
    "\n",
    "# Split the data into training and test sets\n",
    "X_train, X_test, y_train, y_test = train_test_split(X, y, test_size=0.2, random_state=42)\n",
    "\n",
    "# Scale the features\n",
    "scaler = StandardScaler()\n",
    "X_train = scaler.fit_transform(X_train)\n",
    "X_test = scaler.transform(X_test)\n"
   ]
  },
  {
   "cell_type": "code",
   "execution_count": 30,
   "id": "d7fff5a7-26fe-40f2-be57-65b89b613eca",
   "metadata": {},
   "outputs": [
    {
     "name": "stdout",
     "output_type": "stream",
     "text": [
      "Model Coefficients: [ 2.27368590e+05  7.12599081e+06 -1.34368283e+06 ... -1.75526556e+16\n",
      " -1.75526556e+16 -1.75526556e+16]\n",
      "Model Intercept: 11821773.839891367\n",
      "Mean Squared Error: 6.300222718792648e+37\n",
      "R-squared: -8.488298320982992e+22\n"
     ]
    }
   ],
   "source": [
    "# Model selection and training (e.g., linear regression)\n",
    "# Initialize the Linear Regression model\n",
    "model = LinearRegression()\n",
    "\n",
    "# Train the model\n",
    "model.fit(X_train, y_train)\n",
    "\n",
    "# Coefficients of the model\n",
    "print(\"Model Coefficients:\", model.coef_)\n",
    "print(\"Model Intercept:\", model.intercept_)\n",
    "\n",
    "# Predict on the test set\n",
    "y_pred = model.predict(X_test)\n",
    "\n",
    "# Model evaluation and fine-tuning\n",
    "# Evaluate the model\n",
    "mse = mean_squared_error(y_test, y_pred)\n",
    "r2 = r2_score(y_test, y_pred)\n",
    "\n",
    "print(f\"Mean Squared Error: {mse}\")\n",
    "print(f\"R-squared: {r2}\")\n",
    "\n"
   ]
  },
  {
   "cell_type": "code",
   "execution_count": 31,
   "id": "cbe5be9e-4133-431d-9602-16e096d00d28",
   "metadata": {},
   "outputs": [
    {
     "data": {
      "image/png": "[encoded data removed]",
      "text/plain": [
       "<Figure size 1000x600 with 1 Axes>"
      ]
     },
     "metadata": {},
     "output_type": "display_data"
    }
   ],
   "source": [
    "#Visualizing the Results\n",
    "# Plot the true vs predicted values\n",
    "plt.figure(figsize=(10, 6))\n",
    "plt.scatter(y_test, y_pred, alpha=0.7, color='b')\n",
    "plt.xlabel(\"Actual Prices\")\n",
    "plt.ylabel(\"Predicted Prices\")\n",
    "plt.title(\"Actual vs Predicted Prices\")\n",
    "plt.plot([min(y_test), max(y_test)], [min(y_test), max(y_test)], color='red', linewidth=2)  \n",
    "plt.show()\n"
   ]
  },
  {
   "cell_type": "code",
   "execution_count": null,
   "id": "2df1b562-e23a-49f0-99a1-a79c36749977",
   "metadata": {},
   "outputs": [],
   "source": []
  }
 ],
 "metadata": {
  "kernelspec": {
   "display_name": "Python 3 (ipykernel)",
   "language": "python",
   "name": "python3"
  },
  "language_info": {
   "codemirror_mode": {
    "name": "ipython",
    "version": 3
   },
   "file_extension": ".py",
   "mimetype": "text/x-python",
   "name": "python",
   "nbconvert_exporter": "python",
   "pygments_lexer": "ipython3",
   "version": "3.11.7"
  }
 },
 "nbformat": 4,
 "nbformat_minor": 5
}
